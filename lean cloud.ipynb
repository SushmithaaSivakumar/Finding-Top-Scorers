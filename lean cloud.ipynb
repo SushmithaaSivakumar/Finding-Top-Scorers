{
 "cells": [
  {
   "cell_type": "code",
   "execution_count": 7,
   "id": "1a66881a",
   "metadata": {},
   "outputs": [
    {
     "name": "stdout",
     "output_type": "stream",
     "text": [
      "Topper in Maths: Kelvin\n",
      "Topper in Biology: Vilasini\n",
      "Topper in English: Vilasini\n",
      "Topper in Physics: Carrey\n",
      "Topper in Chemistry: Vilasini\n",
      "Best students in the class are ('Vilasini', 'Kelvin', 'Carrey')\n"
     ]
    }
   ],
   "source": [
    "#The csv file is attached\n",
    "\n",
    "\n",
    "\n",
    "import csv\n",
    "#Opening csv file\n",
    "with open('log.csv', 'r') as file:\n",
    "    my_reader = csv.reader(file, delimiter=',')\n",
    "    header=next(my_reader)\n",
    "    df = []\n",
    "    stud =[]\n",
    "    o = []\n",
    "    p=[]\n",
    "    c = []\n",
    "    m =[]\n",
    "    n = []\n",
    "    total = []\n",
    "    for row in my_reader:\n",
    "        stud.append(row[0])\n",
    "        o.append(int(row[1]))\n",
    "        p.append(int(row[2]))\n",
    "        c.append(int(row[3]))\n",
    "        m.append(int(row[4]))\n",
    "        n.append(int(row[5]))\n",
    "        k =[]\n",
    "        for i in (row[1:]):\n",
    "            i = int(i)\n",
    "            k.append(i)\n",
    "        total.append(sum(k)) \n",
    "#Finding the top scorers\n",
    "    top_o = o.index(max(o))\n",
    "    top_p = p.index(max(p))\n",
    "    top_c = c.index(max(c))\n",
    "    top_m = m.index(max(m))\n",
    "    top_n = n.index(max(n))\n",
    "    stud_o = stud[top_o]\n",
    "    stud_p = stud[top_p]\n",
    "    stud_c = stud[top_c]\n",
    "    stud_m = stud[top_m]\n",
    "    stud_n = stud[top_n]\n",
    "    top_total = total.index(max(total))\n",
    "    stud_total = stud[top_total]\n",
    "    dictionary = dict(zip(total,stud))\n",
    "    rank1 = dictionary.get(max(total))\n",
    "    total.remove(max(total))\n",
    "    rank2 = dictionary.get(max(total))\n",
    "    total.remove(max(total))\n",
    "    rank3 = dictionary.get(max(total))\n",
    "#printing the outputs\n",
    "    print('Topper in Maths:',stud_o)\n",
    "    print('Topper in Biology:',stud_p)\n",
    "    print('Topper in English:',stud_c)\n",
    "    print('Topper in Physics:',stud_m)\n",
    "    print('Topper in Chemistry:',stud_n)\n",
    "    print('Best students in the class are',(rank1,rank2,rank3))\n"
   ]
  }
 ],
 "metadata": {
  "kernelspec": {
   "display_name": "Python 3 (ipykernel)",
   "language": "python",
   "name": "python3"
  },
  "language_info": {
   "codemirror_mode": {
    "name": "ipython",
    "version": 3
   },
   "file_extension": ".py",
   "mimetype": "text/x-python",
   "name": "python",
   "nbconvert_exporter": "python",
   "pygments_lexer": "ipython3",
   "version": "3.9.7"
  }
 },
 "nbformat": 4,
 "nbformat_minor": 5
}
